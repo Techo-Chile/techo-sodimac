{
 "cells": [
  {
   "cell_type": "code",
   "execution_count": 40,
   "metadata": {
    "scrolled": true
   },
   "outputs": [],
   "source": [
    "import gspread\n",
    "from oauth2client.service_account import ServiceAccountCredentials\n",
    "import pandas as ps\n",
    "from datetime import datetime, date, time, timedelta\n",
    "\n",
    "\n",
    "# use creds to create a client to interact with the Google Drive API\n",
    "scope = ['https://spreadsheets.google.com/feeds']\n",
    "creds = ServiceAccountCredentials.from_json_keyfile_name('client_secret.json', scope)\n",
    "client = gspread.authorize(creds)\n",
    "\n",
    "# Find a workbook by name and open the first sheet\n",
    "# Make sure you use the right name here.\n",
    "sheet = client.open(\"Visitas Sodimac (Responses)\").sheet1\n",
    "\n",
    "# Extract and print all of the values\n",
    "list_of_hashes = sheet.get_all_records()\n",
    "df = ps.DataFrame(sheet.get_all_records())"
   ]
  },
  {
   "cell_type": "code",
   "execution_count": 1,
   "metadata": {},
   "outputs": [],
   "source": [
    "tiendas_norte = {\"NORTE-  Hc Antofagasta- Balmaceda Nº 2355, Interior Recinto Portuario Extremo Sur, dentro del Mall, Antofagasta\":0,\n",
    "                \"NORTE- Hc Iquique Héroes de la Concepción Nº 2311, Iquique\":0,\n",
    "                \"NORTE- Hc Calama Balmaceda Nº 3398, Calama\":0,\n",
    "                \"NORTE 4 Hc Arica Av. Santa María Nº 2985, Arica\":0,\n",
    "                \"NORTE Co Antofagasta- Av. Antonio Rendic Nº 6852, Antofagasta\":0,\n",
    "                \"NORTE HC Alto Hospicio- Av. Los Aromos Nº 2780, Alto Hospicio\":0,\n",
    "                \"NORTE Hc Copiapó Cordillera- Av. Los Carrera 4723, Copiapó\":0}\n",
    "\n",
    "tiendas_centro = {\"CENTRO- Co Viña del Mar Limache Nº 3119, Viña del Mar\":0,\n",
    "                 \"CENTRO- Hc Viña del Mar 15 Norte Nº 961, Viña del Mar\":0,\n",
    "                 \"CENTRO- Co Rancagua Koke Nº 011, Rancagua\":0,\n",
    "                 \"CENTRO- Co Valparaíso Yungay Nº 2516, Valparaíso\":0,\n",
    "                 \"CENTRO- Hc La Serena Av. Fco. de Aguirre Nº 02, La Serena\":0,\n",
    "                 \"CENTRO- Hc Rancagua Av. Albert Einstein Nº 297, Rancagua\":0,\n",
    "                 \"CENTRO- Hc El Belloto Avenida Freire Nº 1351, Quilpué\":0,\n",
    "                 \"CENTRO- Hc Reñaca Alessandri Nº 4085, Reñaca Alto, Viña del Mar\":0,\n",
    "                 \"CENTRO- Hc Coquimbo- Ruta 5 Norte Nº 849, Coquimbo\":0,\n",
    "                 \"CENTRO- Hc Quinta Vergara Av. Valparaíso Nº 1070, Viña del Mar\":0}\n",
    "\n",
    "tiendas_sur = {\"SUR- Hc Concepción Los Carrera Nº 1175, Concepción\":0,\n",
    "              \"SUR- Hc Osorno René Soriano Nº 2619, Osorno\":0,\n",
    "              \"SUR- Hc Los Angeles Av. Alemania Nº 850, Los Angeles\":0,\n",
    "              \"SUR- Hc Valdivia Av. Picarte Nº 3349, Valdivia\":0,\n",
    "              \"SUR- Hc Puerto Montt Av. Presidente Ibañez Nº 650, Puerto Montt\":0,\n",
    "              \"SUR- Hc Temuco Cautín Caupolicán Nº 0457, Temuco\":0,\n",
    "              \"SUR- Hc Mall Plaza El Trébol Av. Pdte. Jorge Alessandri Nº 3177, Concepción\":0,\n",
    "              \"SUR- Hc Autopista Talcahuano Autopista Concep-Talcahuano Nº 9200, comuna Hualpén, Talcahuano\":0,\n",
    "              \"SUR- Hc Mall Bío Bío Av. Los Carreras Poniente Nº 301, Concepción\":0}\n",
    "\n",
    "tiendas_rm = {\"RM- Hc San Miguel Gran Avda. José Miguel Carrera Nº 5508, San Miguel, Santiago\":0,\n",
    "             \"RM- Co Cantagallo Av. Las Condes Nº 12422, Lo Barnechea, Santiago\":0,\n",
    "             \"RM- HC San Bernardo Jorge Alessandri Rodríguez N°20.040, Local TH – 100Y PC100, San Bernardo\":0,\n",
    "             \"RM- Co Ñuñoa Vicuña Mackenna Nº 680, Ñuñoa, Santiago\":0,\n",
    "             \"RM- Hc Las Condes Av. Las Condes Nº 11049, Las Condes, Santiago\":0,\n",
    "             \"RM- Co Maipú Av. Pajaritos Nº 2418, Maipú, Santiago\":0,\n",
    "             \"RM- Hc Nueva La Florida Av.José Pedro Alessandri Nº 6402, La Florida, Santiago\":0,\n",
    "             \"RM- Hc Huechuraba Av. Américo Vespucio Nº 1737, Huechuraba, Santiago\":0,\n",
    "             \"RM- Co La Florida Av. Vicuña Mackenna Nº 9101, La Florida, Santiago\":0,\n",
    "             \"RM- Hc Ñuble Av. Vicuña Mackenna Nº 1700, Ñuñoa, Santiago\":0,\n",
    "             \"RM- Hc La Reina Av. Pdte. Jorge Alessandri Nº 1347, La Reina, Santiago\":0,\n",
    "             \"RM- HC El Bosque Gran Avda. José Miguel Carrera Nº 10375, El Bosque, Santiago\":0,\n",
    "             \"RM- Hc Puente Alto Av. Concha y Toro Nº 1315, Puente Alto, Santiago\":0,\n",
    "             \"RM- Co Huechuraba Pedro Fontova Nº 5810, Huechuraba, Santiago\":0,\n",
    "             \"RM. Hc Maipú Av. Pajaritos Nº 4444, Maipú, Santiago\":0,\n",
    "             \"RM.- Hc Plaza Vespucio Américo Vespucio Nº 7310, La Florida, Santiago\":0,\n",
    "             \"RM- Hc Cerrillos Américo Vespucio Nº 1501, Cerrillos, Santiago\":0,\n",
    "             \"RM- Hc Quilicura Av. Manuel A. Matta Nº 581, Quilicura\":0,\n",
    "             \"RM- Hc Tobalaba Av. Camilo Henríquez Nº 3692, Puente Alto, Santiago\":0}"
   ]
  },
  {
   "cell_type": "code",
   "execution_count": 80,
   "metadata": {
    "scrolled": false
   },
   "outputs": [
    {
     "data": {
      "text/plain": [
       "0"
      ]
     },
     "execution_count": 80,
     "metadata": {},
     "output_type": "execute_result"
    }
   ],
   "source": [
    "formato_fecha = \"%m/%d/%Y %H:%M:%S\"\n",
    "hoy = datetime.today()\n",
    "\n",
    "tiendas = {}\n",
    "sur = {}\n",
    "norte = {}\n",
    "centro = {}\n",
    "rm = {}\n",
    "\n",
    "\n",
    "for index, rows in df.iterrows():\n",
    "    fecha = datetime.strptime(df['Timestamp'][index],formato_fecha)\n",
    "    if (hoy - fecha).days < 31:\n",
    "        tienda_actual = df['Tienda visitada (agregado)'][index]\n",
    "        if tienda_actual in tiendas:\n",
    "            tiendas[tienda_actual] += 1\n",
    "            \n",
    "        else:\n",
    "            tiendas[tienda_actual] = 1\n",
    "\n",
    "        if tienda_actual.startswith('NOR'):\n",
    "            if tienda_actual in norte:\n",
    "                norte[tienda_actual] += 1\n",
    "            else:\n",
    "                norte[tienda_actual] = 1\n",
    "        \n",
    "        elif tienda_actual.startswith(\"SUR\"):\n",
    "            if tienda_actual in sur:\n",
    "                sur[tienda_actual] += 1\n",
    "            else:\n",
    "                sur[tienda_actual] = 1\n",
    "                \n",
    "        elif tienda_actual.startswith(\"CEN\"):\n",
    "            if tienda_actual in centro:\n",
    "                centro[tienda_actual] += 1\n",
    "            else:\n",
    "                centro[tienda_actual] = 1\n",
    "        \n",
    "        elif tienda_actual.startswith(\"RM\"):\n",
    "            if tienda_actual in rm:\n",
    "                rm[tienda_actual] += 1\n",
    "            else:\n",
    "                rm[tienda_actual] = 1\n",
    "\n",
    "print(\"Tiendas visitadas el ultimo mes: \")"
   ]
  },
  {
   "cell_type": "code",
   "execution_count": null,
   "metadata": {},
   "outputs": [],
   "source": []
  }
 ],
 "metadata": {
  "kernelspec": {
   "display_name": "Python 3",
   "language": "python",
   "name": "python3"
  },
  "language_info": {
   "codemirror_mode": {
    "name": "ipython",
    "version": 3
   },
   "file_extension": ".py",
   "mimetype": "text/x-python",
   "name": "python",
   "nbconvert_exporter": "python",
   "pygments_lexer": "ipython3",
   "version": "3.5.2"
  }
 },
 "nbformat": 4,
 "nbformat_minor": 2
}
